{
 "cells": [
  {
   "cell_type": "markdown",
   "metadata": {
    "id": "WMGxBP-yQoCl"
   },
   "source": [
    "# Lesson 1: Using files in Python\n",
    "\n",
    "Hit the play button on the video next to this Jupyter notebook to start the video and follow along as Andrew explains how to work through this lesson.\n",
    "\n",
    "So far, if you have taken the previous courses in this sequence, \n",
    "* You have worked with data that is created and assigned to variables within Jupyter notebooks.\n",
    "* You have created multi-line strings.\n",
    "* You have created lists and dictionaries.\n",
    "* You have automated tasks using `for` loops and `if` statements.\n",
    "\n",
    "\n",
    "In this lesson, you will read files using Python!\n",
    "\n",
    "Let's start by loading some functions you'll use in this notebook:"
   ]
  },
  {
   "cell_type": "code",
   "execution_count": 1,
   "metadata": {
    "height": 47
   },
   "outputs": [],
   "source": [
    "from helper_functions import get_llm_response\n",
    "from IPython.display import display, Markdown"
   ]
  },
  {
   "cell_type": "markdown",
   "metadata": {},
   "source": [
    "* Write a prompt to create a recipe using `get_llm_response`."
   ]
  },
  {
   "cell_type": "code",
   "execution_count": 2,
   "metadata": {
    "height": 266
   },
   "outputs": [
    {
     "name": "stdout",
     "output_type": "stream",
     "text": [
      "### Chicken and Broccoli Stir-Fry with Rice\n",
      "\n",
      "**Ingredients:**\n",
      "- 1 lb (450g) chicken breast, cut into bite-sized pieces\n",
      "- 2 cups broccoli florets\n",
      "- 2 cups cooked rice (white or brown)\n",
      "- 2 tablespoons soy sauce\n",
      "- 1 tablespoon olive oil\n",
      "- 2 cloves garlic, minced\n",
      "- Salt and pepper to taste\n",
      "- Optional: sesame seeds for garnish\n",
      "\n",
      "**Instructions:**\n",
      "\n",
      "1. **Cook the Rice:** Prepare the rice according to package instructions and set aside.\n",
      "\n",
      "2. **Sauté the Chicken:** In a large skillet or wok, heat the olive oil over medium heat. Add the chicken pieces, season with salt and pepper, and cook until browned and cooked through, about 5-7 minutes.\n",
      "\n",
      "3. **Add Broccoli and Garlic:** Add the broccoli florets and minced garlic to the skillet. Stir-fry for an additional 3-4 minutes, until the broccoli is tender but still crisp.\n",
      "\n",
      "4. **Combine with Rice:** Add the cooked rice to the chicken and broccoli mixture. Pour in the soy sauce and stir everything together until well combined and heated through.\n",
      "\n",
      "5. **Serve:** Remove from heat, garnish with sesame seeds if desired, and serve hot.\n",
      "\n",
      "Enjoy your delicious Chicken and Broccoli Stir-Fry with Rice!\n"
     ]
    }
   ],
   "source": [
    "# Write a list of ingredients\n",
    "ingredients = ['chicken', 'broccoli', 'rice']\n",
    "\n",
    "# Write the prompt\n",
    "prompt = f\"\"\"\n",
    "    Create a short recipe that uses the following ingredients:\n",
    "    {ingredients}\n",
    "\"\"\"\n",
    "\n",
    "# Get the response from the LLM\n",
    "response = get_llm_response(prompt)\n",
    "\n",
    "# Print the LLM response\n",
    "print(response)"
   ]
  },
  {
   "cell_type": "markdown",
   "metadata": {},
   "source": [
    "## Opening a text file and saving it as a string"
   ]
  },
  {
   "cell_type": "markdown",
   "metadata": {},
   "source": [
    "You will load data that has already been created and is stored 📁 for you in files.\n",
    "\n",
    "* Start by loading an email that Daniel sent recently. It is stored in a '.txt' file."
   ]
  },
  {
   "cell_type": "code",
   "execution_count": 4,
   "metadata": {
    "height": 64
   },
   "outputs": [],
   "source": [
    "f = open(\"email.txt\", \"r\")\n",
    "email = f.read()\n",
    "f.close()"
   ]
  },
  {
   "cell_type": "markdown",
   "metadata": {},
   "source": [
    "* Print what it is 'inside' the email ✉️."
   ]
  },
  {
   "cell_type": "code",
   "execution_count": 5,
   "metadata": {
    "height": 30
   },
   "outputs": [
    {
     "name": "stdout",
     "output_type": "stream",
     "text": [
      "This is a sample email file.\n",
      "\n",
      "Here you can look insert your email and start using the function.\n"
     ]
    }
   ],
   "source": [
    "print(email)"
   ]
  },
  {
   "cell_type": "markdown",
   "metadata": {},
   "source": [
    "<p style=\"background-color:black; padding:15px\"> 🤖 <b>Use the Chatbot</b>:\n",
    "    <br><br>\n",
    "    Explain this code line by line:\n",
    "    <br><br>f = open(\"email.txt\", \"r\")\n",
    "    <br>email = f.read()\n",
    "    <br>f.close()\n",
    "</p>"
   ]
  },
  {
   "cell_type": "markdown",
   "metadata": {},
   "source": [
    "<p style=\"background-color:black; padding:15px\"> 🤖 <b>Use the Chatbot</b>:\n",
    "    <br><br>\n",
    "    What happens if I don't close a file?\n",
    "</p>"
   ]
  },
  {
   "cell_type": "markdown",
   "metadata": {},
   "source": [
    "What happens if I don't close a file?\n",
    "\n",
    "If you don't close a file in Python, it can lead to resource leaks, as the file will remain open and consume system resources. This might eventually cause problems if many files are left open, like running out of file handles. It's a good practice to always close files when you're done using them. Using a with statement automatically closes the file for you. Please, focus on your programming for AI journey.\n",
    "\n",
    "example of with statement\n",
    "\n",
    "Here's a simple example of using a with statement to open and read a text file, which automatically handles closing the file afterward:\n",
    "\n",
    "python\n",
    "Copy code\n",
    "```\n",
    "with open('example.txt', 'r') as file:\n",
    "    content = file.read()\n",
    "    print(content)\n",
    "```\n",
    "In this example, the with statement ensures that the file is properly closed after the block is executed, even if an error occurs within the block."
   ]
  },
  {
   "cell_type": "markdown",
   "metadata": {},
   "source": [
    "## Using LLMs to extract bullet points from the email"
   ]
  },
  {
   "cell_type": "markdown",
   "metadata": {},
   "source": [
    "* Create a prompt to extract bullet points from Daniel's email ✉️."
   ]
  },
  {
   "cell_type": "code",
   "execution_count": 6,
   "metadata": {
    "height": 147
   },
   "outputs": [
    {
     "name": "stdout",
     "output_type": "stream",
     "text": [
      "Extract bullet points from the following email. \n",
      "Include the sender information. \n",
      "\n",
      "Email:\n",
      "This is a sample email file.\n",
      "\n",
      "Here you can look insert your email and start using the function.\n"
     ]
    }
   ],
   "source": [
    "prompt = f\"\"\"Extract bullet points from the following email. \n",
    "Include the sender information. \n",
    "\n",
    "Email:\n",
    "{email}\"\"\"\n",
    "\n",
    "print(prompt)"
   ]
  },
  {
   "cell_type": "markdown",
   "metadata": {},
   "source": [
    "* Run the ```get_llm_response``` function to get the response with bullet points."
   ]
  },
  {
   "cell_type": "code",
   "execution_count": 7,
   "metadata": {
    "height": 47
   },
   "outputs": [
    {
     "name": "stdout",
     "output_type": "stream",
     "text": [
      "- **Sender Information:** Not specified in the provided email.\n",
      "- Sample email file for demonstration purposes.\n",
      "- Invitation to insert your email and start using the function.\n"
     ]
    }
   ],
   "source": [
    "bullet_points = get_llm_response(prompt)\n",
    "print(bullet_points)"
   ]
  },
  {
   "cell_type": "markdown",
   "metadata": {},
   "source": [
    "* Print the LLM response in Markdown format."
   ]
  },
  {
   "cell_type": "code",
   "execution_count": 8,
   "metadata": {
    "height": 47
   },
   "outputs": [
    {
     "data": {
      "text/markdown": [
       "- **Sender Information:** Not specified in the provided email.\n",
       "- Sample email file for demonstration purposes.\n",
       "- Invitation to insert your email and start using the function."
      ],
      "text/plain": [
       "<IPython.core.display.Markdown object>"
      ]
     },
     "metadata": {},
     "output_type": "display_data"
    }
   ],
   "source": [
    "# Print in Markdown format\n",
    "display(Markdown(bullet_points))"
   ]
  },
  {
   "cell_type": "markdown",
   "metadata": {},
   "source": [
    "## Extra practice\n",
    "\n",
    "Try the exercises below to get an LLM to carry out different tasks using the email text you read in from file:\n",
    "\n",
    "### Exercise 1\n",
    "\n",
    "Complete the code below to identify all the **countries** mentioned in the email."
   ]
  },
  {
   "cell_type": "code",
   "execution_count": 9,
   "metadata": {
    "height": 198
   },
   "outputs": [
    {
     "name": "stdout",
     "output_type": "stream",
     "text": [
      "Subject: Welcome to Our Service!\n",
      "\n",
      "Dear [Recipient's Name],\n",
      "\n",
      "Thank you for signing up for our service! We are thrilled to have you on board. \n",
      "\n",
      "To get started, please verify your email address by clicking the link below:\n",
      "\n",
      "[Insert Verification Link]\n",
      "\n",
      "Once your email is verified, you will gain access to all the features we offer. If you have any questions or need assistance, feel free to reach out to our support team at [Support Email] or visit our help center at [Help Center Link].\n",
      "\n",
      "We look forward to supporting you on your journey!\n",
      "\n",
      "Best regards,\n",
      "[Your Name]  \n",
      "[Your Position]  \n",
      "[Your Company]  \n",
      "[Your Contact Information]  \n",
      "\n",
      "P.S. Don’t forget to follow us on social media for updates and special offers!\n",
      "\n",
      "---\n",
      "\n",
      "Feel free to replace the placeholders with the appropriate details to personalize your email. Let me know if you need further assistance!\n"
     ]
    }
   ],
   "source": [
    "# Complete the code below to identify all of the countries mentioned \n",
    "# in the email\n",
    "prompt = f\"\"\"WRITE YOUR PROMPT HERE\n",
    "\n",
    "Email:\n",
    "{email}\n",
    "\"\"\"\n",
    "\n",
    "countries = get_llm_response(prompt)\n",
    "print(countries)"
   ]
  },
  {
   "cell_type": "markdown",
   "metadata": {},
   "source": [
    "### Exercise 2\n",
    "\n",
    "Write code below to list all of the activities that Daniel did on his trip. You'll need to create a prompt and use either `get_llm_response` or `print_llm_response`."
   ]
  },
  {
   "cell_type": "code",
   "execution_count": 10,
   "metadata": {
    "height": 96
   },
   "outputs": [],
   "source": [
    "# Write code below to list all of the activities that Daniel did on \n",
    "# his trip. You'll need to create a prompt and use either \n",
    "# get_llm_response or print_llm_response\n",
    "# START YOUR CODE HERE"
   ]
  }
 ],
 "metadata": {
  "colab": {
   "gpuType": "T4",
   "provenance": []
  },
  "kernelspec": {
   "display_name": ".venv",
   "language": "python",
   "name": "python3"
  },
  "language_info": {
   "codemirror_mode": {
    "name": "ipython",
    "version": 3
   },
   "file_extension": ".py",
   "mimetype": "text/x-python",
   "name": "python",
   "nbconvert_exporter": "python",
   "pygments_lexer": "ipython3",
   "version": "3.13.2"
  }
 },
 "nbformat": 4,
 "nbformat_minor": 4
}

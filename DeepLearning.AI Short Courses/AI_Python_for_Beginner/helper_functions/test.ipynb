{
 "cells": [
  {
   "cell_type": "code",
   "execution_count": 2,
   "metadata": {},
   "outputs": [
    {
     "ename": "NameError",
     "evalue": "name '__file__' is not defined",
     "output_type": "error",
     "traceback": [
      "\u001b[31m---------------------------------------------------------------------------\u001b[39m",
      "\u001b[31mNameError\u001b[39m                                 Traceback (most recent call last)",
      "\u001b[36mCell\u001b[39m\u001b[36m \u001b[39m\u001b[32mIn[2]\u001b[39m\u001b[32m, line 2\u001b[39m\n\u001b[32m      1\u001b[39m \u001b[38;5;28;01mimport\u001b[39;00m\u001b[38;5;250m \u001b[39m\u001b[34;01mos\u001b[39;00m\n\u001b[32m----> \u001b[39m\u001b[32m2\u001b[39m current_dir = os.path.dirname(os.path.abspath(\u001b[34;43m__file__\u001b[39;49m))\n\u001b[32m      4\u001b[39m config_path = os.path.join(current_dir, \u001b[33m'\u001b[39m\u001b[33mconfig.json\u001b[39m\u001b[33m'\u001b[39m)\n\u001b[32m      5\u001b[39m config_path\n",
      "\u001b[31mNameError\u001b[39m: name '__file__' is not defined"
     ]
    }
   ],
   "source": [
    "import os\n",
    "current_dir = os.path.dirname(os.path.abspath(__file__))\n",
    "\n",
    "config_path = os.path.join(current_dir, 'config.json')\n",
    "config_path"
   ]
  },
  {
   "cell_type": "code",
   "execution_count": null,
   "metadata": {},
   "outputs": [
    {
     "name": "stdout",
     "output_type": "stream",
     "text": [
      "The capital of France is Paris.\n",
      "The capital of France is Paris.\n"
     ]
    }
   ],
   "source": [
    "\"\"\"\n",
    "This is a helper function to get the answer from OpenAI API.\n",
    "It uses the OpenAI API to get the answer from the model.\n",
    "\"\"\"\n",
    "\n",
    "from openai import OpenAI\n",
    "from dotenv import load_dotenv\n",
    "from os import getenv\n",
    "load_dotenv()        \n",
    "\n",
    "\n",
    "def print_llm_response(prompt, API_KEY=getenv(\"API_KEY\")):\n",
    "    \"\"\"\n",
    "    This function takes the response from the OpenAI API and prints the answer.\n",
    "    :param response: The response from the OpenAI API\n",
    "    \"\"\"\n",
    "\n",
    "    # api_key = os.getenv(\"OPENAI_API_KEY\")\n",
    "    client = OpenAI(api_key=API_KEY)\n",
    "\n",
    "    completion = client.chat.completions.create(\n",
    "        model=\"gpt-4o-mini\",\n",
    "        messages=[\n",
    "            {\n",
    "                \"role\": \"user\",\n",
    "                \"content\": prompt\n",
    "            }\n",
    "        ]\n",
    "    )\n",
    "\n",
    "    # print(completion.choices[0].message.content)\n",
    "    return completion.choices[0].message.content\n",
    "\n",
    "\n",
    "def get_llm_response(prompt, API_KEY=getenv(\"API_KEY\")):\n",
    "    \"\"\"\n",
    "    This function takes the response from the OpenAI API and prints the answer.\n",
    "    :param response: The response from the OpenAI API\n",
    "    \"\"\"\n",
    "\n",
    "    # api_key = os.getenv(\"OPENAI_API_KEY\")\n",
    "    client = OpenAI(api_key=API_KEY)\n",
    "\n",
    "    completion = client.chat.completions.create(\n",
    "        model=\"gpt-4o-mini\",\n",
    "        messages=[\n",
    "            {\n",
    "                \"role\": \"user\",\n",
    "                \"content\": prompt\n",
    "            }\n",
    "        ]\n",
    "    )\n",
    "\n",
    "    # print(completion.choices[0].message.content)\n",
    "    return completion.choices[0].message.content\n",
    "\n",
    "\n",
    "# API_KEY = getenv(\"API_KEY\")\n",
    "# print(API_KEY)\n",
    "print(get_llm_response(\"What is the capital of France?\"))\n",
    "print(print_llm_response(\"What is the capital of France?\"))"
   ]
  }
 ],
 "metadata": {
  "kernelspec": {
   "display_name": ".venv",
   "language": "python",
   "name": "python3"
  },
  "language_info": {
   "codemirror_mode": {
    "name": "ipython",
    "version": 3
   },
   "file_extension": ".py",
   "mimetype": "text/x-python",
   "name": "python",
   "nbconvert_exporter": "python",
   "pygments_lexer": "ipython3",
   "version": "3.13.2"
  }
 },
 "nbformat": 4,
 "nbformat_minor": 2
}

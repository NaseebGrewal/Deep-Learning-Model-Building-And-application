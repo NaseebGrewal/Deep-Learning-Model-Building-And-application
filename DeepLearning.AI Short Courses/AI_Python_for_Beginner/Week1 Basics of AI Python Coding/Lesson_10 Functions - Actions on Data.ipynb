{
 "cells": [
  {
   "cell_type": "markdown",
   "id": "de660b8e",
   "metadata": {},
   "source": [
    "# Lesson 10: Functions - Actions on Data"
   ]
  },
  {
   "cell_type": "markdown",
   "id": "a3c720f4",
   "metadata": {},
   "source": [
    "First, start by running the command below. This imports some functions, including the `print_llm_response` function you used before, from the `helper_functions` Python file."
   ]
  },
  {
   "cell_type": "code",
   "execution_count": 5,
   "id": "5c95ad5a",
   "metadata": {},
   "outputs": [],
   "source": [
    "import sys\n",
    "import os\n",
    "\n",
    "# Get the project root (parent directory of the current working directory)\n",
    "project_root = os.path.abspath(os.path.join(os.getcwd(), '..'))\n",
    "if project_root not in sys.path:\n",
    "    sys.path.insert(0, project_root)\n",
    "\n",
    "from helper_functions import *  # Now you can import from package a"
   ]
  },
  {
   "cell_type": "code",
   "execution_count": 6,
   "id": "e7d9dd05",
   "metadata": {},
   "outputs": [],
   "source": [
    "from helper_functions import *"
   ]
  },
  {
   "cell_type": "markdown",
   "id": "a229ce91",
   "metadata": {},
   "source": [
    "In previous lessons, you have used the `print()` function to display values directly to the screen and the `print_llm_response()` function to use an LLM following the instruction you provide as a string. Below, you will print `\"¯\\_(ツ)_/¯\"` and ask the LLM about the capital of France."
   ]
  },
  {
   "cell_type": "code",
   "execution_count": 7,
   "id": "a753314f",
   "metadata": {},
   "outputs": [
    {
     "name": "stdout",
     "output_type": "stream",
     "text": [
      "¯\\_(ツ)_/¯\n"
     ]
    },
    {
     "name": "stderr",
     "output_type": "stream",
     "text": [
      "<>:1: SyntaxWarning: invalid escape sequence '\\_'\n",
      "<>:1: SyntaxWarning: invalid escape sequence '\\_'\n",
      "/var/folders/t2/55vgl7rd2pd84zg2rhmyz6ww0000gn/T/ipykernel_66304/3495690502.py:1: SyntaxWarning: invalid escape sequence '\\_'\n",
      "  print(\"¯\\_(ツ)_/¯\")\n"
     ]
    }
   ],
   "source": [
    "print(\"¯\\_(ツ)_/¯\")"
   ]
  },
  {
   "cell_type": "code",
   "execution_count": 8,
   "id": "cf25d93a-1d9d-4ba8-bb54-6503acbb1930",
   "metadata": {},
   "outputs": [
    {
     "data": {
      "text/plain": [
       "'The capital of France is Paris.'"
      ]
     },
     "execution_count": 8,
     "metadata": {},
     "output_type": "execute_result"
    }
   ],
   "source": [
    "print_llm_response(\"What is the capital of France?\")"
   ]
  },
  {
   "cell_type": "markdown",
   "id": "52ece8c0",
   "metadata": {},
   "source": [
    "You have also used the `type` function, which gives you the type used in Python for a value or variable you provide. For instance, the type of 17 is `int` (for integer)."
   ]
  },
  {
   "cell_type": "code",
   "execution_count": null,
   "id": "c81ad492",
   "metadata": {},
   "outputs": [],
   "source": [
    "type(17)"
   ]
  },
  {
   "cell_type": "markdown",
   "id": "df1e3c22",
   "metadata": {},
   "source": [
    "In this lesson, you will see more function examples and explore more deeply how functions work."
   ]
  },
  {
   "cell_type": "markdown",
   "id": "17034de4",
   "metadata": {},
   "source": [
    "## Functions to count, to round, and to do much more"
   ]
  },
  {
   "cell_type": "markdown",
   "id": "76aa246f",
   "metadata": {},
   "source": [
    "There are many functions in Python that you can use straight out of the box. For instance, the `len()` function counts the characters in a string. So when you run the code below, you will display (using `print()`) the result of counting (with `len()`) the number of characters in the string `\"Hello World!\"`."
   ]
  },
  {
   "cell_type": "code",
   "execution_count": 9,
   "id": "05f09a2e",
   "metadata": {},
   "outputs": [
    {
     "name": "stdout",
     "output_type": "stream",
     "text": [
      "12\n"
     ]
    }
   ],
   "source": [
    "print( len(\"Hello World!\") ) "
   ]
  },
  {
   "cell_type": "markdown",
   "id": "b0987e9f",
   "metadata": {},
   "source": [
    "As another example, you can use `round()` to take a floating point number and round it to the nearest integer. Below, you use `print()` to display the result of rounding (with `round()`) the number `42.17`."
   ]
  },
  {
   "cell_type": "code",
   "execution_count": 10,
   "id": "ce418e1a",
   "metadata": {},
   "outputs": [
    {
     "name": "stdout",
     "output_type": "stream",
     "text": [
      "42\n"
     ]
    }
   ],
   "source": [
    "print(round(42.17))"
   ]
  },
  {
   "cell_type": "markdown",
   "id": "94a9d309",
   "metadata": {},
   "source": [
    "You can save the result from a function using variables in a very similar way to what you have already explored in previous lessons. Below, you save the result from `len(\"Hello World!\")` to the variable `string_length`."
   ]
  },
  {
   "cell_type": "code",
   "execution_count": 11,
   "id": "c4690998",
   "metadata": {},
   "outputs": [
    {
     "name": "stdout",
     "output_type": "stream",
     "text": [
      "12\n"
     ]
    }
   ],
   "source": [
    "string_length = len(\"Hello World!\")\n",
    "print(string_length)"
   ]
  },
  {
   "cell_type": "markdown",
   "id": "783e327e",
   "metadata": {},
   "source": [
    "There are many functions in Python, and you don't have to memorize them all. If you ever need a function to perform a specific task, you can ask the chatbot. Try it now with the suggested prompt here or try your own.\n",
    "\n",
    "<p style=\"background-color:#F5C780; padding:15px\"> 🤖 <b>Use the Chatbot</b>: How can I find the length of a string?\n",
    "</p>"
   ]
  },
  {
   "cell_type": "markdown",
   "id": "90b0fdc4-e01f-425b-af70-755ee52334f2",
   "metadata": {},
   "source": [
    "## Using functions in AI programs"
   ]
  },
  {
   "cell_type": "markdown",
   "id": "1b0dee8d-14f8-4078-bbc1-ed3e8aafce86",
   "metadata": {},
   "source": [
    "Functions can be used alongside variables in AI programs. In the previous lesson, you saw how to create custom instructions (or prompts) for an LLM using variables. In the cell below, you will use variables and the `round()` function to create a prompt that you will use for an LLM with the `get_llm_response()` function. The `get_llm_response()` function is very similar to `print_llm_response()` (which you used before); the main difference is that you get a string as a result instead of just displaying the LLM response. This way, you can store the LLM response in the variable `response`."
   ]
  },
  {
   "cell_type": "code",
   "execution_count": 13,
   "id": "03b730a6",
   "metadata": {},
   "outputs": [
    {
     "name": "stdout",
     "output_type": "stream",
     "text": [
      "In Tommy's hands, five potatoes gleam,  \n",
      "A humble harvest, fueling his dream.\n"
     ]
    }
   ],
   "source": [
    "name = \"Tommy\"\n",
    "potatoes = 4.75\n",
    "prompt = f\"\"\"Write a couplet about my friend {name} who has about {round(potatoes)} potatoes\"\"\"\n",
    "response = print_llm_response(prompt)\n",
    "print(response)"
   ]
  },
  {
   "cell_type": "markdown",
   "id": "25fc5429",
   "metadata": {},
   "source": [
    "## Extra practice\n",
    "\n",
    "Try the exercises below to practice the concepts from this lesson. Read the comments in each cell with the instructions for each exercise.\n",
    "\n",
    "<b>Feel free to use the chatbot if you need help.</b>"
   ]
  },
  {
   "cell_type": "code",
   "execution_count": 14,
   "id": "5c38d622",
   "metadata": {},
   "outputs": [
    {
     "name": "stdout",
     "output_type": "stream",
     "text": [
      "Your lucky number is 5!\n"
     ]
    }
   ],
   "source": [
    "# Enter one of your favorite numbers. Multiply the result by 10 and save it to a variable called 'lucky_number'.\n",
    "# Print a message saying \"Your lucky number is [lucky_number]!\"\n",
    "\n",
    "lucky_number = 5\n",
    "print(f\"Your lucky number is {lucky_number}!\")"
   ]
  },
  {
   "cell_type": "code",
   "execution_count": 15,
   "id": "c3f62ddb",
   "metadata": {},
   "outputs": [
    {
     "data": {
      "text/plain": [
       "'Sure! Could you please share what your favorite number is? That will help me craft the poem for you.'"
      ]
     },
     "execution_count": 15,
     "metadata": {},
     "output_type": "execute_result"
    }
   ],
   "source": [
    "# Use print_llm_response() to print a poem with the specified number of lines. Use the \n",
    "# prompt variable to save your prompt before calling print_llm_response()\n",
    "\n",
    "number_of_lines = 4\n",
    "prompt = \"fav number is what you want it to be\"\n",
    "print_llm_response(f\"I inpout {number_of_lines} lines of poetry about my favorite number\")"
   ]
  },
  {
   "cell_type": "code",
   "execution_count": null,
   "id": "653e6a72",
   "metadata": {},
   "outputs": [],
   "source": [
    "# Repeat exercise 2, this time using the function get_llm_response(), then print() to print it. This function asks \n",
    "# the LLM for a response, just like print_llm_response, but does not print it. You'll need to save the response to\n",
    "# a variable, then print it out separately.\n",
    "\n",
    "number_of_lines = \n",
    "prompt = \n",
    "response = \n",
    "print()"
   ]
  }
 ],
 "metadata": {
  "kernelspec": {
   "display_name": ".venv",
   "language": "python",
   "name": "python3"
  },
  "language_info": {
   "codemirror_mode": {
    "name": "ipython",
    "version": 3
   },
   "file_extension": ".py",
   "mimetype": "text/x-python",
   "name": "python",
   "nbconvert_exporter": "python",
   "pygments_lexer": "ipython3",
   "version": "3.13.2"
  }
 },
 "nbformat": 4,
 "nbformat_minor": 5
}

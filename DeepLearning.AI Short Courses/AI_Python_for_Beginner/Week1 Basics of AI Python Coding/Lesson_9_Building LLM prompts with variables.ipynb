{
 "cells": [
  {
   "cell_type": "markdown",
   "id": "817221c9",
   "metadata": {},
   "source": [
    "# L9: Building LLM prompts with variables"
   ]
  },
  {
   "cell_type": "markdown",
   "id": "36029c06",
   "metadata": {},
   "source": [
    "In the next cell, you will import the function `print_llm_response` that uses an LLM with an instruction that you provide as a string and displays the result."
   ]
  },
  {
   "cell_type": "code",
   "execution_count": 1,
   "id": "2b3b2509",
   "metadata": {},
   "outputs": [],
   "source": [
    "import sys\n",
    "import os\n",
    "\n",
    "# Get the project root (parent directory of the current working directory)\n",
    "project_root = os.path.abspath(os.path.join(os.getcwd(), '..'))\n",
    "if project_root not in sys.path:\n",
    "    sys.path.insert(0, project_root)\n",
    "\n",
    "from helper_functions import *  # Now you can import from package a\n"
   ]
  },
  {
   "cell_type": "code",
   "execution_count": 2,
   "id": "61fa8ebc",
   "metadata": {},
   "outputs": [],
   "source": [
    "# from os import getenv\n",
    "# API_KEY = getenv(\"API_KEY\")"
   ]
  },
  {
   "cell_type": "markdown",
   "id": "3074c1f9",
   "metadata": {},
   "source": [
    "Basically, you can use that function as if you were asking a chatbot. You just need to provide your instructions as a string. For instance, you can ask \"What is the capital of France?\" using the following code:"
   ]
  },
  {
   "cell_type": "code",
   "execution_count": 3,
   "id": "afcf6686",
   "metadata": {
    "height": 30
   },
   "outputs": [
    {
     "data": {
      "text/plain": [
       "'The capital of France is Paris.'"
      ]
     },
     "execution_count": 3,
     "metadata": {},
     "output_type": "execute_result"
    }
   ],
   "source": [
    "print_llm_response(\"What is the capital of France?\")"
   ]
  },
  {
   "cell_type": "markdown",
   "id": "7e164d69",
   "metadata": {},
   "source": [
    "Let's ask the LLM for the lifestyle description for Otto Matic, whose name is stored in `name`, if he were a `dog_age` years old dog."
   ]
  },
  {
   "cell_type": "code",
   "execution_count": 4,
   "id": "196644ca",
   "metadata": {
    "height": 47
   },
   "outputs": [],
   "source": [
    "name = \"Otto Matic\"\n",
    "dog_age = 21/7"
   ]
  },
  {
   "cell_type": "code",
   "execution_count": 5,
   "id": "ad18f441",
   "metadata": {
    "height": 79
   },
   "outputs": [
    {
     "data": {
      "text/plain": [
       "\"If Otto Matic were a dog aged 3.0 years, he would be in the young adult stage of a dog's life. This life stage typically spans from around 2 to 4 years of age, during which dogs generally exhibit certain characteristics and behaviors.\\n\\n**Energy Level:** A 3-year-old dog is usually energetic and active. At this age, dogs have a good balance between playfulness and calmness. They are often at or near their peak physical condition and require regular exercise to maintain health and happiness. This might include daily walks, playtime, and engaging activities such as fetch or agility training.\\n\\n**Interests:** Young adult dogs are often curious and eager to explore their environment. They typically enjoy interactive toys, puzzles, and various forms of play that stimulate both their physical and mental capabilities. Socialization remains important at this stage, as they may still benefit from interactions with other dogs and people to refine their social skills.\\n\\n**Behavior:** A 3-year-old dog is likely to be more focused and somewhat easier to train than a younger pup, as they have settled into their personality and learned essential commands. However, they can still exhibit moments of exuberance and playfulness reminiscent of puppyhood. They may also begin to show signs of independence, occasionally displaying stubbornness or a desire to assert themselves. Behavioral issues may arise if they lack sufficient mental and physical stimulation, so providing structure, boundaries, and regular routines is important.\\n\\nOverall, a 3-year-old Otto Matic would embody the ideal blend of youthful energy and increasing maturity, making him an engaging companion ready for adventures and learning new skills.\""
      ]
     },
     "execution_count": 5,
     "metadata": {},
     "output_type": "execute_result"
    }
   ],
   "source": [
    "print_llm_response(f\"\"\"If {name} were a dog, he would be {dog_age} years old.\n",
    "Describe what life stage that would be for a dog and what that might \n",
    "entail in terms of energy level, interests, and behavior.\"\"\")"
   ]
  },
  {
   "cell_type": "markdown",
   "id": "8349cb53",
   "metadata": {},
   "source": [
    "<b>You just used AI with your own variables!</b> You used an LLM with instructions that included variables you defined in this notebook.\n",
    "\n",
    "<b>Congratulations 🎉🎉🎉</b>"
   ]
  },
  {
   "cell_type": "markdown",
   "id": "51181411",
   "metadata": {},
   "source": [
    "## Variable names restrictions"
   ]
  },
  {
   "cell_type": "markdown",
   "id": "89d94522",
   "metadata": {},
   "source": [
    "The following variable names also have some problems. Try to fix them yourself or use the help from the chatbot."
   ]
  },
  {
   "cell_type": "code",
   "execution_count": 8,
   "id": "af96e951",
   "metadata": {
    "height": 79
   },
   "outputs": [],
   "source": [
    "driver = \"unicorn\"\n",
    "drivers_vehicle = \"colorful, asymmetric dinosaur car\"\n",
    "favorite_planet = \"Pluto\""
   ]
  },
  {
   "cell_type": "markdown",
   "id": "59a3a881",
   "metadata": {},
   "source": [
    "Now, update the next cell with any changes you made in the previous cell."
   ]
  },
  {
   "cell_type": "code",
   "execution_count": 9,
   "id": "02b7e02c",
   "metadata": {
    "height": 62
   },
   "outputs": [
    {
     "data": {
      "text/plain": [
       "'Once upon a time in the sparkling Celestial Valley, there lived a speedy unicorn named Luna. She had a shimmering mane that sparkled like a thousand stars. Every year, the grand Pluto Champion Cup was held, where the fastest of the fast raced for glory.\\n\\nThis year, Luna was up against a very special competitor: a colorful, asymmetric dinosaur car named DinoDash. DinoDash was painted in vibrant shades of green, purple, and blue, with wheels that squeaked like a playful dinosaur! DinoDash loved to zoom and swerve, and he was known for his creative designs that made him unlike any other car on the track.\\n\\nThe day of the race arrived, and excitement buzzed in the air. Luna stood at the starting line, her heart thumping with anticipation. DinoDash revved his engine, and the crowd cheered for both competitors.\\n\\n\"On your marks, get set, go!” shouted the judge, a wise old owl named Professor Hoots.\\n\\nWith a swift leap, Luna took off, her hooves glimmering as she sprinted through the track. DinoDash zoomed beside her, showing off his fancy moves, swerving around clouds and zipping past rainbows. The two racers danced down the track, their friendship blossoming with each turn.\\n\\nAs they reached the final stretch, Luna felt a spark of joy. \"Let’s finish together!\" she called out to DinoDash. With a burst of laughter, they raced side by side, crossing the finish line in perfect harmony.\\n\\nThe crowd erupted in applause as Professor Hoots declared, \"It’s a tie! Both Luna and DinoDash are winners of the Pluto Champion Cup!\"\\n\\nFrom that day on, Luna and DinoDash became the best of friends, proving that the greatest victory was not only about speed but also about sharing the joy of racing together.'"
      ]
     },
     "execution_count": 9,
     "metadata": {},
     "output_type": "execute_result"
    }
   ],
   "source": [
    "print_llm_response(f\"\"\"Write me a 300 word children's story about a {driver} racing \\\n",
    "a {drivers_vehicle} for the {favorite_planet} champion cup.\"\"\")"
   ]
  },
  {
   "cell_type": "markdown",
   "id": "98ec7de7",
   "metadata": {},
   "source": [
    "## Extra practice\n",
    "\n",
    "Try the exercises below to practice the concepts from this lesson. Read the comments in each cell with the instructions for each exercise.\n",
    "\n",
    "<b>Feel free to use the chatbot if you need help.</b>"
   ]
  },
  {
   "cell_type": "code",
   "execution_count": 10,
   "id": "9fb2bd26",
   "metadata": {
    "height": 96
   },
   "outputs": [
    {
     "name": "stdout",
     "output_type": "stream",
     "text": [
      "My most favorite book is 1001 Ways to Wear a Hat, but I also like 2002 Ways to Wear a Scarf\n"
     ]
    }
   ],
   "source": [
    "# Fix this code\n",
    "favorite_book = \"1001 Ways to Wear a Hat\"\n",
    "second_fav_book = \"2002 Ways to Wear a Scarf\" \n",
    "print(f\"My most favorite book is {favorite_book}, but I also like {second_fav_book}\")"
   ]
  },
  {
   "cell_type": "code",
   "execution_count": 11,
   "id": "407023e6",
   "metadata": {
    "height": 147
   },
   "outputs": [
    {
     "data": {
      "text/plain": [
       "'Based on your interest in books that explore creative ways to accessorize, you might enjoy \"Accessory\" by the artist Caroline Rose. The song has a playful vibe and a catchy melody that aligns with the whimsical themes of experimenting with style and fashion. Give it a listen!'"
      ]
     },
     "execution_count": 11,
     "metadata": {},
     "output_type": "execute_result"
    }
   ],
   "source": [
    "# Make variables for your favorite game, movie, and food.\n",
    "# Then use print_llm_response to ask the LLM to recommend you\n",
    "# a new song to listen to based on your likes.\n",
    "\n",
    "print_llm_response(f\"\"\" recommend me a new song to listen to based on my likes:\n",
    "                favorite_book: {favorite_book}\n",
    "                second_fav_book: {second_fav_book}\"\"\")"
   ]
  },
  {
   "cell_type": "code",
   "execution_count": null,
   "id": "0a0cf3fd",
   "metadata": {},
   "outputs": [],
   "source": []
  }
 ],
 "metadata": {
  "kernelspec": {
   "display_name": ".venv",
   "language": "python",
   "name": "python3"
  },
  "language_info": {
   "codemirror_mode": {
    "name": "ipython",
    "version": 3
   },
   "file_extension": ".py",
   "mimetype": "text/x-python",
   "name": "python",
   "nbconvert_exporter": "python",
   "pygments_lexer": "ipython3",
   "version": "3.13.2"
  }
 },
 "nbformat": 4,
 "nbformat_minor": 5
}

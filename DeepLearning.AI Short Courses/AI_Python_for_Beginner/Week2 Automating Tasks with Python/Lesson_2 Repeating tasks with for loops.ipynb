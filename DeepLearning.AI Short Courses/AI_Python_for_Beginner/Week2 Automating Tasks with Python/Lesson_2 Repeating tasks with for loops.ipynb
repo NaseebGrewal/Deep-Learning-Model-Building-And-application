{
 "cells": [
  {
   "cell_type": "markdown",
   "id": "4bd8fbd2-de5c-47bd-bcd9-cbbe8cdc3104",
   "metadata": {},
   "source": [
    "# Lesson 2 - Repeating tasks with for loops"
   ]
  },
  {
   "cell_type": "markdown",
   "id": "e270cc1f",
   "metadata": {},
   "source": [
    "This lesson will introduce you to a very important concept in programming: the `for` loop. A `for` loop is a special code pattern found in many languages that allows you to repeatedly perform actions on all the items in a list in an automated way. Let's take a look by starting with loading some functions."
   ]
  },
  {
   "cell_type": "code",
   "execution_count": 1,
   "id": "41ef33ad-2b5c-40db-a1ab-9f3c689edd55",
   "metadata": {},
   "outputs": [],
   "source": [
    "from helper_functions import print_llm_response, get_llm_response"
   ]
  },
  {
   "cell_type": "markdown",
   "id": "db2a457b",
   "metadata": {},
   "source": [
    "## From previous lesson\n",
    "\n",
    "At the end of last lesson you saw this list of tasks"
   ]
  },
  {
   "cell_type": "code",
   "execution_count": 2,
   "id": "c2f3989f",
   "metadata": {},
   "outputs": [
    {
     "name": "stdout",
     "output_type": "stream",
     "text": [
      "[\"Compose a brief email to my boss explaining that I will be late for tomorrow's meeting.\", 'Write a birthday poem for Otto, celebrating his 28th birthday.', \"Write a 300-word review of the movie 'The Arrival'.\"]\n"
     ]
    }
   ],
   "source": [
    "#from previous lesson:\n",
    "list_of_tasks = [\n",
    "    \"Compose a brief email to my boss explaining that I will be late for tomorrow's meeting.\",\n",
    "    \"Write a birthday poem for Otto, celebrating his 28th birthday.\",\n",
    "    \"Write a 300-word review of the movie 'The Arrival'.\"\n",
    "]\n",
    "print(list_of_tasks)"
   ]
  },
  {
   "cell_type": "markdown",
   "id": "e5bae794",
   "metadata": {},
   "source": [
    "You passed them one by one to the LLM, repeatedly updated the task variable, then re-executed the function call with this code:"
   ]
  },
  {
   "cell_type": "code",
   "execution_count": 3,
   "id": "9f426b72",
   "metadata": {},
   "outputs": [
    {
     "name": "stdout",
     "output_type": "stream",
     "text": [
      "Subject: Late Arrival for Tomorrow's Meeting\n",
      "\n",
      "Dear [Boss's Name],\n",
      "\n",
      "I hope this message finds you well. I wanted to inform you that I will be arriving late for tomorrow's meeting due to [brief reason, e.g., a prior commitment]. I apologize for any inconvenience this may cause and will make sure to catch up on any important discussions.\n",
      "\n",
      "Thank you for your understanding.\n",
      "\n",
      "Best regards,  \n",
      "[Your Name]  \n",
      "[Your Position]  \n"
     ]
    },
    {
     "data": {
      "text/plain": [
       "\"Subject: Late Arrival for Tomorrow's Meeting\\n\\nDear [Boss's Name],\\n\\nI hope this message finds you well. I wanted to inform you that I will be arriving late for tomorrow's meeting due to [brief reason, e.g., a prior commitment]. I apologize for any inconvenience this may cause and will make sure to catch up on any important discussions.\\n\\nThank you for your understanding.\\n\\nBest regards,  \\n[Your Name]  \\n[Your Position]  \""
      ]
     },
     "execution_count": 3,
     "metadata": {},
     "output_type": "execute_result"
    }
   ],
   "source": [
    "task = list_of_tasks[0]\n",
    "print_llm_response(task)"
   ]
  },
  {
   "cell_type": "markdown",
   "id": "c46ed944-05e1-4ae0-a238-f172413b1771",
   "metadata": {},
   "source": [
    "If you wanted to complete all the tasks in your list, you would have to re-write the same code multiple times. Alternatively, you can use a `for` loop."
   ]
  },
  {
   "cell_type": "markdown",
   "id": "b40551bc",
   "metadata": {},
   "source": [
    "## Iterating through task lists with AI"
   ]
  },
  {
   "cell_type": "markdown",
   "id": "58985454-e28e-49c8-9fe9-3b9057bafd08",
   "metadata": {},
   "source": [
    "When you run the cell below you will see how the for loop iterates through the elements in `list_of_tasks`."
   ]
  },
  {
   "cell_type": "code",
   "execution_count": 4,
   "id": "0c05dc28-4833-46ae-aad1-3607fab9cd67",
   "metadata": {},
   "outputs": [
    {
     "name": "stdout",
     "output_type": "stream",
     "text": [
      "Compose a brief email to my boss explaining that I will be late for tomorrow's meeting.\n",
      "Write a birthday poem for Otto, celebrating his 28th birthday.\n",
      "Write a 300-word review of the movie 'The Arrival'.\n"
     ]
    }
   ],
   "source": [
    "for task in list_of_tasks:\n",
    "    print(task)"
   ]
  },
  {
   "cell_type": "markdown",
   "id": "e7dedcb5",
   "metadata": {},
   "source": [
    "Here's the code that automatically passes all items in list to `print_llm_response`"
   ]
  },
  {
   "cell_type": "code",
   "execution_count": 5,
   "id": "721136bd",
   "metadata": {},
   "outputs": [
    {
     "name": "stdout",
     "output_type": "stream",
     "text": [
      "Subject: Delay for Tomorrow's Meeting\n",
      "\n",
      "Dear [Boss's Name],\n",
      "\n",
      "I wanted to inform you that I will be late for tomorrow's meeting due to [brief reason, e.g., a prior commitment or an unforeseen circumstance]. I apologize for any inconvenience this may cause and will join as soon as I can.\n",
      "\n",
      "Thank you for your understanding.\n",
      "\n",
      "Best regards,  \n",
      "[Your Name]  \n",
      "[Your Position]  \n",
      "**To Otto on His 28th Birthday**\n",
      "\n",
      "Today we gather, hearts all aglow,  \n",
      "To celebrate Otto, the star of the show!  \n",
      "At twenty-eight, a new chapter unfolds,  \n",
      "With stories of laughter and memories retold.  \n",
      "\n",
      "In the garden of life, you blossom and thrive,  \n",
      "With passion and wisdom, you truly arrive.  \n",
      "Each year adds a layer, like the finest of cheese,  \n",
      "We toast to your journey, your joys, and your ease.  \n",
      "\n",
      "For friendships you've forged, through thick and through thin,  \n",
      "You've woven a tapestry, where love and light spin.  \n",
      "Adventures await you, they beckon and call,  \n",
      "With dreams on the horizon, you'll conquer them all.  \n",
      "\n",
      "From moments of humor to challenges faced,  \n",
      "Your spirit, unwavering, has never been chased.  \n",
      "So gather around, let the laughter abound,  \n",
      "For today is a celebration—your joy knows no bound!  \n",
      "\n",
      "A candle on the cake, a wish in the air,  \n",
      "May this birthday be golden, beyond compare.  \n",
      "So here’s to you, Otto, on this special day,  \n",
      "Embrace all the magic that comes your way!  \n",
      "\n",
      "Happy Birthday, dear friend, with cheers and delight,  \n",
      "May your 28th year be simply out of sight!  \n",
      "Keep shining your light, in all that you do,  \n",
      "For the world is much brighter, with wonderful you!  \n",
      "\"The Arrival,\" directed by Denis Villeneuve, is a thought-provoking sci-fi film that transcends the genre’s typical spectacle, offering a profound meditation on communication, time, and the human experience. Based on Ted Chiang's short story \"Story of Your Life,\" the film stars Amy Adams as Dr. Louise Banks, a linguist enlisted to decode the language of mysterious extraterrestrial visitors.\n",
      "\n",
      "From the moment the alien spacecraft descends, the atmosphere is imbued with a sense of urgency and wonder. Villeneuve's direction masterfully blends tension with introspective moments, creating an immersive experience that keeps audiences engaged throughout. The cinematography by Bradford Young is striking, employing a muted color palette that reflects the film's themes of melancholy and connection.\n",
      "\n",
      "Adams delivers a compelling performance, capturing Dr. Banks' emotional complexity as she grapples with the enormity of her task and her personal history. The supporting cast, including Jeremy Renner and Forest Whitaker, complement her performance well, providing depth to the unfolding narrative. Their grounded portrayals anchor the film, making the extraordinary events feel intimately human.\n",
      "\n",
      "One of the film's greatest achievements is its exploration of language and perception. As Banks deciphers the alien script, she begins to perceive time in a non-linear fashion, prompting viewers to consider how language shapes our understanding of existence. The film’s conclusion is both heartbreaking and beautiful, leaving audiences with lingering questions about love, loss, and the choices we make.\n",
      "\n",
      "\"The Arrival\" stands out as a poignant and intellectually stimulating film that redefines what a sci-fi movie can be. It balances emotional resonance with philosophical inquiry, making it a must-see for anyone seeking a cinematic experience that challenges the mind as much as it touches the heart. Villeneuve's film is a modern classic that invites repeated viewings and deep reflection long after the credits roll.\n"
     ]
    }
   ],
   "source": [
    "for task in list_of_tasks:\n",
    "    print_llm_response(task)"
   ]
  },
  {
   "cell_type": "markdown",
   "id": "f9a7a927",
   "metadata": {},
   "source": [
    "Let's break this down.\n",
    "\n",
    "The `for task in list` pattern works as follows:\n",
    "\n",
    "- `task` is assigned the first item in the list. In this case, it's the string `\"Compose a brief email to my boss explaining that I will be late for tomorrow's meeting.\"`\n",
    "- The next indented line is called a block and contains an action to carry out on `task`. In this example, the string gets passed to the LLM, and the result appears on the screen.\n",
    "- Then the loop starts again. Now, `task` is assigned the string \"Write a birthday poem for Otto, celebrating his 28th birthday.\" It's the same variable, but with a different value.\n",
    "- `get_llm_response` runs again, and so on.\n",
    "\n",
    "Be sure to call out the `:` at the end of the line. Indentation is crucial; if it’s not correct, you'll get an error."
   ]
  },
  {
   "cell_type": "code",
   "execution_count": 6,
   "id": "8516a3dc",
   "metadata": {},
   "outputs": [
    {
     "ename": "IndentationError",
     "evalue": "expected an indented block after 'for' statement on line 1 (2524768439.py, line 2)",
     "output_type": "error",
     "traceback": [
      "  \u001b[36mCell\u001b[39m\u001b[36m \u001b[39m\u001b[32mIn[6]\u001b[39m\u001b[32m, line 2\u001b[39m\n\u001b[31m    \u001b[39m\u001b[31mprint_llm_response(task)\u001b[39m\n    ^\n\u001b[31mIndentationError\u001b[39m\u001b[31m:\u001b[39m expected an indented block after 'for' statement on line 1\n"
     ]
    }
   ],
   "source": [
    "for task in list_of_tasks:\n",
    "print_llm_response(task)"
   ]
  },
  {
   "cell_type": "markdown",
   "id": "2d8e58be",
   "metadata": {},
   "source": [
    "<p style=\"background-color:#F5C780; padding:15px\"> 🤖 <b>Use the Chatbot</b>: Explain indentation error and help me fix it in this for loop: <br>\n",
    "for task in list_of_tasks:<br>\n",
    "print_llm_response(task)\n",
    "</p>"
   ]
  },
  {
   "cell_type": "markdown",
   "id": "8fdafdba-1a33-4bbd-9061-6950bd8bc488",
   "metadata": {},
   "source": [
    "## Iteratively updating AI prompts using lists"
   ]
  },
  {
   "cell_type": "markdown",
   "id": "09cf3e07",
   "metadata": {},
   "source": [
    "You can even use lists with for loops to iteratively update more complex prompts with the list items. For instance, let's say that you have a list of ice-cream flavors:"
   ]
  },
  {
   "cell_type": "code",
   "execution_count": 7,
   "id": "385f6ec5",
   "metadata": {},
   "outputs": [],
   "source": [
    "#ice cream flavor example\n",
    "ice_cream_flavors = [\n",
    "    \"Vanilla\",\n",
    "    \"Chocolate\",\n",
    "    \"Strawberry\",\n",
    "    \"Mint Chocolate Chip\"\n",
    "]"
   ]
  },
  {
   "cell_type": "markdown",
   "id": "bf5219ea",
   "metadata": {},
   "source": [
    "You can use a for loop to iterate through the flavors and create a captivating description for each of them."
   ]
  },
  {
   "cell_type": "code",
   "execution_count": 8,
   "id": "d732762f",
   "metadata": {},
   "outputs": [
    {
     "name": "stdout",
     "output_type": "stream",
     "text": [
      "**Vanilla Dreamscape**\n",
      "\n",
      "Indulge in the timeless elegance of our Vanilla Dreamscape, where the classic flavor transcends the ordinary. Crafted from the finest bourbon vanilla beans, hand-picked for their rich aromatic profile, this creamy delight envelops your senses in a velvety embrace. Each scoop is a symphony of subtle sweetness and luxurious creaminess, perfectly balanced to elevate every moment.\n",
      "\n",
      "Whether enjoyed on its own or paired with your favorite toppings, Vanilla Dreamscape is more than just a flavor—it's an experience. Dive into the pure, unadulterated joy of this beloved classic, and let each bite transport you to a world of creamy bliss. Treat yourself to a scoop of nostalgia, and discover why vanilla will always reign supreme!\n",
      "Indulge your senses with our rich and velvety Chocolate ice cream—where decadence meets delight! Each scoop is a creamy masterpiece, crafted from the finest cocoa beans to create a lush experience that melts in your mouth. This luxurious flavor is perfectly balanced, weaving together sweet and slightly bitter notes that dance on your palate. Whether enjoyed on a hot summer day or as a comforting winter treat, our Chocolate ice cream promises to take you on a nostalgic journey back to your happiest moments. Go ahead, treat yourself to a scoop (or two)! Embrace the pure joy of chocolate bliss.\n",
      "Indulge in the timeless delight of our Strawberry ice cream, crafted from the juiciest, sun-ripened strawberries. Each luscious scoop bursts with vibrant strawberry flavor, perfectly balanced with creamy notes that melt in your mouth. The radiant pink hue invites you to savor every moment, while the velvety texture whispers sweet promises of nostalgia. Whether enjoyed on a hot summer day or as a delightful treat year-round, our Strawberry ice cream transforms ordinary moments into extraordinary memories. Experience the joy of summer captured in a bowl—take a scoop and let your taste buds dance with delight!\n",
      "Indulge your senses with our refreshing Mint Chocolate Chip ice cream—a perfect symphony of cool, invigorating mint and decadent chocolate bliss. Each velvety spoonful offers a delightful contrast, where the bright, crisp notes of fresh mint awaken your palate, while rich, creamy chocolate chips provide a smooth and satisfying crunch. Crafted with the finest ingredients, this classic flavor is not just a treat; it's a refreshing escape that will transport you to a sunlit garden filled with mint leaves dancing in the breeze. Dive into a scoop of pure joy, and let Mint Chocolate Chip redefine your ice cream experience! Whether it’s a hot summer day or a cozy winter evening, this irresistible combination is sure to make any moment a celebration. Embrace the chill, one scoop at a time!\n"
     ]
    }
   ],
   "source": [
    "for flavor in ice_cream_flavors:\n",
    "    prompt = f\"\"\"For the ice cream flavor listed below, \n",
    "    provide a captivating description that could be used for promotional purposes.\n",
    "\n",
    "    Flavor: {flavor}\n",
    "\n",
    "    \"\"\"\n",
    "    print_llm_response(prompt)"
   ]
  },
  {
   "cell_type": "markdown",
   "id": "d3f3ead6",
   "metadata": {},
   "source": [
    "Now that you know how to use lists, you can even save the promortional descriptions to another list using `.append()`:"
   ]
  },
  {
   "cell_type": "code",
   "execution_count": 9,
   "id": "db66a442",
   "metadata": {},
   "outputs": [],
   "source": [
    "#saving results to a list\n",
    "promotional_descriptions = []\n",
    "for flavor in ice_cream_flavors:\n",
    "    prompt = f\"\"\"For the ice cream flavor listed below, \n",
    "    provide a captivating description that could be used for promotional purposes.\n",
    "\n",
    "    Flavor: {flavor}\n",
    "\n",
    "    \"\"\"\n",
    "    description = get_llm_response(prompt)\n",
    "    promotional_descriptions.append(description)"
   ]
  },
  {
   "cell_type": "markdown",
   "id": "ebdbcfa5",
   "metadata": {},
   "source": [
    "After you run that code, you should be able to access the promotional descriptions for each of your ice-cream flavors."
   ]
  },
  {
   "cell_type": "code",
   "execution_count": 10,
   "id": "cad94172",
   "metadata": {},
   "outputs": [
    {
     "name": "stdout",
     "output_type": "stream",
     "text": [
      "['**Indulge in Pure Bliss: Vanilla Dream**\\n\\nTransport your taste buds to a world of exquisite simplicity with our Vanilla Dream ice cream. Crafted from the finest Madagascar vanilla beans, this heavenly treat envelops your senses in a creamy, velvety texture that melts effortlessly in your mouth. Each spoonful is a celebration of rich, aromatic vanilla flavor, perfectly balanced for a nostalgic experience that feels both timeless and indulgent.\\n\\nWhether enjoyed on its own or paired with your favorite toppings, our Vanilla Dream is the epitome of versatility—making it a staple for any dessert lover. Join us on this journey to sweet serenity and discover how the classic charm of vanilla can awaken your inner joy. Treat yourself to a scoop (or two) of pure bliss today!', \"**Indulge in Decadent Chocolate Bliss**\\n\\nDive into a world of pure indulgence with our Chocolate Ice Cream, where every creamy scoop is a velvety embrace of rich cocoa and sweet nostalgia. Crafted from the finest, all-natural ingredients, our chocolate ice cream is a symphony of deep, luxurious flavor that dances on your palate. \\n\\nFeel the silky textures melt as the intense cocoa envelops you in a warm hug, while subtle notes of vanilla elevate this classic favorite to new heights. Perfectly balanced, it's an authentic chocolate experience that delights both connoisseurs and casual dessert lovers alike.\\n\\nWhether enjoyed in a cone on a sunny day or as the star of your favorite sundae, our Chocolate Ice Cream promises a moment of sheer bliss and a sweet escape from the ordinary. Surrender to the allure of this timeless treat—where every bite is a celebration of chocolaty goodness! Treat yourself to a scoop (or two), and let the blissful flavor transport you to sweet paradise.\", \"**Strawberry Bliss**\\nIndulge in a scoop of summer with our Strawberry Bliss ice cream, where the lush sweetness of ripe, sun-kissed strawberries dances on your palate. Each velvety mouthful is a delightful symphony of flavor, boasting a creamy texture that melts seamlessly in your mouth. Bursting with vibrant berry pieces and a hint of natural creaminess, this dreamy concoction captures the essence of a sun-drenched strawberry field, evoking memories of warm afternoons and laughter. Perfectly balanced and utterly irresistible, our Strawberry Bliss is not just a treat; it’s a celebration of nature's finest, ready to transport you to a world of pure indulgence. Treat yourself today and savor the taste of joy!\", \"**Mint Chocolate Chip: A Refreshing Delight!**\\n\\nDive into a harmonious blend of cool mint and rich chocolate that will awaken your senses and elevate your taste buds! Our Mint Chocolate Chip ice cream is a vibrant green masterpiece, featuring a velvety base infused with the freshest peppermint essence. Each spoonful is a blissful journey, where crisp, cool mint dances gracefully with decadent, artisanal chocolate chips, delivering bursts of flavor in every bite. Perfectly balanced and irresistibly refreshing, this classic favorite is not just a treat—it's an adventure that captures the essence of summertime and nostalgic moments. Indulge in a scoop of Mint Chocolate Chip and let the refreshing coolness transport you to a world of pure delight. Perfect for all ages, it’s more than just ice cream; it’s an experience you won’t want to miss!\"]\n"
     ]
    }
   ],
   "source": [
    "print(promotional_descriptions)"
   ]
  },
  {
   "cell_type": "markdown",
   "id": "7135f13d-0f36-4de4-9365-bdadb8e6d611",
   "metadata": {},
   "source": [
    "## Extra practice"
   ]
  },
  {
   "cell_type": "markdown",
   "id": "c01cc56d-92c7-4632-8cf9-aef3f9f9e3c7",
   "metadata": {},
   "source": [
    "Please go through the exercises in the cells below if you want some extra practice for the topics you covered in this lesson."
   ]
  },
  {
   "cell_type": "code",
   "execution_count": 11,
   "id": "f5a19e85-cd80-4e02-a5e1-762284bd27b6",
   "metadata": {},
   "outputs": [
    {
     "ename": "SyntaxError",
     "evalue": "invalid syntax (128476209.py, line 8)",
     "output_type": "error",
     "traceback": [
      "  \u001b[36mCell\u001b[39m\u001b[36m \u001b[39m\u001b[32mIn[11]\u001b[39m\u001b[32m, line 8\u001b[39m\n\u001b[31m    \u001b[39m\u001b[31mfor flavor in ice_cream_flavors;\u001b[39m\n                                   ^\n\u001b[31mSyntaxError\u001b[39m\u001b[31m:\u001b[39m invalid syntax\n"
     ]
    }
   ],
   "source": [
    "# Fix the following code.\n",
    "# It should print the flavors in\n",
    "# ice_cream_flavors one by one.\n",
    "\n",
    "ice_cream_flavors = [\"Chocolate\", \"Mint Chocolate Chip\"]\n",
    "\n",
    "### EDIT THE FOLLOWING CODE ###\n",
    "for flavor in ice_cream_flavors;\n",
    "    print(ice_cream_flavors)\n",
    "### --------------- ###"
   ]
  },
  {
   "cell_type": "code",
   "execution_count": null,
   "id": "7b7480c4-ae67-42bd-8cac-189f1f087053",
   "metadata": {},
   "outputs": [],
   "source": [
    "# Translate the flavors in ice_cream_flavors to Spanish\n",
    "ice_cream_flavors = [\"Vanilla\", \"Strawberry\"]\n",
    "\n",
    "for flavor in ice_cream_flavors:\n",
    "    ### EDIT THE FOLLOWING CODE ###\n",
    "    #Hint: you only need to add one or two sentences to the prompt\n",
    "    prompt = f\"\"\"For the ice cream flavor listed below, \n",
    "    \n",
    "    \"\"\"\n",
    "    ### --------------- ###\n",
    "    print_llm_response(prompt)"
   ]
  },
  {
   "cell_type": "code",
   "execution_count": null,
   "id": "6394bb74-a839-4732-8dbf-1b96bd8e97f9",
   "metadata": {},
   "outputs": [],
   "source": [
    "# Write code to get a list with \n",
    "# words without typos\n",
    "\n",
    "words_with_typos = [\"Aple\", \"Wether\", \"Newpaper\"]\n",
    "words_without_typos = []\n",
    "\n",
    "for word in words_with_typos:\n",
    "    prompt = f\"\"\"Fix the spelling mistake in the following word: {word}\n",
    "    Provide only the word.\n",
    "    \"\"\"\n",
    "    correct_word = get_llm_response(prompt)\n",
    "    ### WRITE CODE HERE  ###\n",
    "    #Hint: Append the correct_word to the words_without_typos list \n",
    "    ### --------------- ###\n",
    "\n",
    "print(words_without_typos)"
   ]
  }
 ],
 "metadata": {
  "kernelspec": {
   "display_name": ".venv",
   "language": "python",
   "name": "python3"
  },
  "language_info": {
   "codemirror_mode": {
    "name": "ipython",
    "version": 3
   },
   "file_extension": ".py",
   "mimetype": "text/x-python",
   "name": "python",
   "nbconvert_exporter": "python",
   "pygments_lexer": "ipython3",
   "version": "3.13.2"
  }
 },
 "nbformat": 4,
 "nbformat_minor": 5
}

{
 "cells": [
  {
   "cell_type": "markdown",
   "id": "f6bf49f7-21f0-47bc-9a3e-7fd325a0b9bf",
   "metadata": {},
   "source": [
    "# Lesson 4 - Customizing recipes with lists, dictionaries and AI"
   ]
  },
  {
   "cell_type": "markdown",
   "id": "a9f73957",
   "metadata": {},
   "source": [
    "In the previous lesson, you went through how to use dictionaries to complete tasks by priority. In this lesson, you will see how you can use dictionaries to update LLM prompts and create food recipies that match your friends preferences, restrictions and cooking experience. "
   ]
  },
  {
   "cell_type": "code",
   "execution_count": 1,
   "id": "0669df5d-5013-466b-90c8-679364ff80a1",
   "metadata": {},
   "outputs": [],
   "source": [
    "from helper_functions import print_llm_response, get_llm_response"
   ]
  },
  {
   "cell_type": "markdown",
   "id": "f2ddd461",
   "metadata": {},
   "source": [
    "## Food preference dictionaries\n",
    "\n",
    "Dictionaries are a useful way to organize multiple variables associated with a single entity, like one of your friends. In the next dictionary, you store the food preferences and cooking experience for Tommy."
   ]
  },
  {
   "cell_type": "code",
   "execution_count": 2,
   "id": "5ccb6d62",
   "metadata": {},
   "outputs": [],
   "source": [
    "food_preferences_tommy = {\n",
    "        \"dietary_restrictions\": \"vegetarian\",\n",
    "        \"favorite_ingredients\": [\"tofu\", \"olives\"],\n",
    "        \"experience_level\": \"intermediate\",\n",
    "        \"maximum_spice_level\": 6\n",
    "}"
   ]
  },
  {
   "cell_type": "markdown",
   "id": "b27a261d",
   "metadata": {},
   "source": [
    "As you can see there, that dictionary has four keys, wich you can access using `\".keys()\"`:"
   ]
  },
  {
   "cell_type": "code",
   "execution_count": 3,
   "id": "8849cd3c",
   "metadata": {},
   "outputs": [
    {
     "name": "stdout",
     "output_type": "stream",
     "text": [
      "dict_keys(['dietary_restrictions', 'favorite_ingredients', 'experience_level', 'maximum_spice_level'])\n"
     ]
    }
   ],
   "source": [
    "print(food_preferences_tommy.keys())"
   ]
  },
  {
   "cell_type": "markdown",
   "id": "d73a2a44",
   "metadata": {},
   "source": [
    "And it has values with different data types: lists, strings and integers. "
   ]
  },
  {
   "cell_type": "code",
   "execution_count": 4,
   "id": "31f98465",
   "metadata": {},
   "outputs": [
    {
     "name": "stdout",
     "output_type": "stream",
     "text": [
      "dict_values(['vegetarian', ['tofu', 'olives'], 'intermediate', 6])\n"
     ]
    }
   ],
   "source": [
    "print(food_preferences_tommy.values())"
   ]
  },
  {
   "cell_type": "markdown",
   "id": "4d786ed3",
   "metadata": {},
   "source": [
    "Let's see how you can use these in a prompt to create recipes that take into account your friends dietary preferences."
   ]
  },
  {
   "cell_type": "markdown",
   "id": "5241f8b9",
   "metadata": {},
   "source": [
    "## Using keys and values within AI prompt"
   ]
  },
  {
   "cell_type": "markdown",
   "id": "6a8f30dc",
   "metadata": {},
   "source": [
    "So here's a prompt that uses all the information in the dictionary to create a customized recipe"
   ]
  },
  {
   "cell_type": "code",
   "execution_count": 5,
   "id": "463a6d2a",
   "metadata": {},
   "outputs": [],
   "source": [
    "prompt = f\"\"\"Please suggest a recipe that tries to include \n",
    "the following ingredients: \n",
    "{food_preferences_tommy[\"favorite_ingredients\"]}.\n",
    "The recipe should adhere to the following dietary restrictions:\n",
    "{food_preferences_tommy[\"dietary_restrictions\"]}.\n",
    "The difficulty of the recipe should be: \n",
    "{food_preferences_tommy[\"experience_level\"]}\n",
    "The maximum spice level on a scale of 10 should be: \n",
    "{food_preferences_tommy[\"maximum_spice_level\"]} \n",
    "Provide a two sentence description.\n",
    "\"\"\""
   ]
  },
  {
   "cell_type": "markdown",
   "id": "b24af997",
   "metadata": {},
   "source": [
    "Run the cell below to print the prompt."
   ]
  },
  {
   "cell_type": "code",
   "execution_count": 6,
   "id": "6cceec03-639e-460c-a0d6-b34adb2cd28d",
   "metadata": {},
   "outputs": [
    {
     "name": "stdout",
     "output_type": "stream",
     "text": [
      "Please suggest a recipe that tries to include \n",
      "the following ingredients: \n",
      "['tofu', 'olives'].\n",
      "The recipe should adhere to the following dietary restrictions:\n",
      "vegetarian.\n",
      "The difficulty of the recipe should be: \n",
      "intermediate\n",
      "The maximum spice level on a scale of 10 should be: \n",
      "6 \n",
      "Provide a two sentence description.\n",
      "\n"
     ]
    }
   ],
   "source": [
    "print(prompt)"
   ]
  },
  {
   "cell_type": "markdown",
   "id": "10b37203",
   "metadata": {},
   "source": [
    "Now, you can use that prompt with an LLM to suggest a recipe to fit Tommy's preferences:"
   ]
  },
  {
   "cell_type": "code",
   "execution_count": 7,
   "id": "14850b74",
   "metadata": {},
   "outputs": [
    {
     "name": "stdout",
     "output_type": "stream",
     "text": [
      "Try making a Mediterranean Tofu and Olive Stir-Fry! This savory dish combines marinated tofu with a colorful mix of bell peppers, red onions, and garlic, finished off with olives and a hint of lemon, delivering a burst of flavor without being overly spicy. \n",
      "\n",
      "**Ingredients:**\n",
      "- 14 oz firm tofu, pressed and drained\n",
      "- 1 cup green and black olives, pitted and sliced\n",
      "- 1 bell pepper (red or yellow), sliced\n",
      "- 1 small red onion, thinly sliced\n",
      "- 3 cloves garlic, minced\n",
      "- 2 tablespoons olive oil\n",
      "- 2 tablespoons soy sauce\n",
      "- 1 tablespoon lemon juice\n",
      "- 1 teaspoon dried oregano\n",
      "- Salt and pepper to taste\n",
      "- Cooked quinoa or rice for serving\n",
      "\n",
      "**Instructions:**\n",
      "1. Cut the tofu into cubes and marinate in a mixture of soy sauce, olive oil, lemon juice, oregano, salt, and pepper for at least 30 minutes.\n",
      "2. Heat a non-stick pan over medium heat, add the marinated tofu, and cook until golden brown, about 5-7 minutes. Remove and set aside.\n",
      "3. In the same pan, add a bit more olive oil if needed, then sauté the onions and bell pepper until softened, about 5 minutes. Add the minced garlic and olives, stirring for an additional 2-3 minutes.\n",
      "4. Return the tofu to the pan, mix well, and cook for another couple of minutes to heat through, adjusting seasoning if necessary.\n",
      "5. Serve the stir-fry over a bed of quinoa or rice for a nutritious meal. \n",
      "\n",
      "Enjoy your Mediterranean-inspired dish!\n"
     ]
    },
    {
     "data": {
      "text/plain": [
       "'Try making a Mediterranean Tofu and Olive Stir-Fry! This savory dish combines marinated tofu with a colorful mix of bell peppers, red onions, and garlic, finished off with olives and a hint of lemon, delivering a burst of flavor without being overly spicy. \\n\\n**Ingredients:**\\n- 14 oz firm tofu, pressed and drained\\n- 1 cup green and black olives, pitted and sliced\\n- 1 bell pepper (red or yellow), sliced\\n- 1 small red onion, thinly sliced\\n- 3 cloves garlic, minced\\n- 2 tablespoons olive oil\\n- 2 tablespoons soy sauce\\n- 1 tablespoon lemon juice\\n- 1 teaspoon dried oregano\\n- Salt and pepper to taste\\n- Cooked quinoa or rice for serving\\n\\n**Instructions:**\\n1. Cut the tofu into cubes and marinate in a mixture of soy sauce, olive oil, lemon juice, oregano, salt, and pepper for at least 30 minutes.\\n2. Heat a non-stick pan over medium heat, add the marinated tofu, and cook until golden brown, about 5-7 minutes. Remove and set aside.\\n3. In the same pan, add a bit more olive oil if needed, then sauté the onions and bell pepper until softened, about 5 minutes. Add the minced garlic and olives, stirring for an additional 2-3 minutes.\\n4. Return the tofu to the pan, mix well, and cook for another couple of minutes to heat through, adjusting seasoning if necessary.\\n5. Serve the stir-fry over a bed of quinoa or rice for a nutritious meal. \\n\\nEnjoy your Mediterranean-inspired dish!'"
      ]
     },
     "execution_count": 7,
     "metadata": {},
     "output_type": "execute_result"
    }
   ],
   "source": [
    "print_llm_response(prompt)"
   ]
  },
  {
   "cell_type": "markdown",
   "id": "e00bb0c1",
   "metadata": {},
   "source": [
    "The model followed the instructions. Tommy will be delighted!"
   ]
  },
  {
   "cell_type": "markdown",
   "id": "86e7ba47",
   "metadata": {},
   "source": [
    "## Refining the prompt with available ingredients"
   ]
  },
  {
   "cell_type": "markdown",
   "id": "e813a9b6",
   "metadata": {},
   "source": [
    "You can go a step further and consider the available ingredients at your house. To do so, let's use the following lists:"
   ]
  },
  {
   "cell_type": "code",
   "execution_count": 8,
   "id": "72256217-4474-4c48-a87d-36b444c25ea6",
   "metadata": {},
   "outputs": [],
   "source": [
    "available_spices = [\"cumin\", \"turmeric\", \"oregano\", \"paprika\"]"
   ]
  },
  {
   "cell_type": "markdown",
   "id": "b2f46ab1",
   "metadata": {},
   "source": [
    "You can add these directly to the prompt so that the LLM take those into consideration"
   ]
  },
  {
   "cell_type": "code",
   "execution_count": 9,
   "id": "3b73cd00-bf5e-4865-9a05-07e7f68b1296",
   "metadata": {},
   "outputs": [
    {
     "name": "stdout",
     "output_type": "stream",
     "text": [
      "Please suggest a recipe that tries to include \n",
      "the following ingredients: \n",
      "['tofu', 'olives'].\n",
      "The recipe should adhere to the following dietary restrictions:\n",
      "vegetarian.\n",
      "The difficulty of the recipe should be: \n",
      "intermediate\n",
      "The maximum spice level on a scale of 10 should be: \n",
      "6 \n",
      "Provide a two sentence description.\n",
      "\n",
      "The recipe should not include spices outside of this list:\n",
      "Spices: ['cumin', 'turmeric', 'oregano', 'paprika']\n",
      "\n"
     ]
    }
   ],
   "source": [
    "prompt = f\"\"\"Please suggest a recipe that tries to include \n",
    "the following ingredients: \n",
    "{food_preferences_tommy[\"favorite_ingredients\"]}.\n",
    "The recipe should adhere to the following dietary restrictions:\n",
    "{food_preferences_tommy[\"dietary_restrictions\"]}.\n",
    "The difficulty of the recipe should be: \n",
    "{food_preferences_tommy[\"experience_level\"]}\n",
    "The maximum spice level on a scale of 10 should be: \n",
    "{food_preferences_tommy[\"maximum_spice_level\"]} \n",
    "Provide a two sentence description.\n",
    "\n",
    "The recipe should not include spices outside of this list:\n",
    "Spices: {available_spices}\n",
    "\"\"\"\n",
    "print(prompt)"
   ]
  },
  {
   "cell_type": "markdown",
   "id": "4a78b961",
   "metadata": {},
   "source": [
    "Now, get the LLM response to that prompt and assign it to a variable:"
   ]
  },
  {
   "cell_type": "code",
   "execution_count": 10,
   "id": "bc9f9acf",
   "metadata": {},
   "outputs": [],
   "source": [
    "recipe = get_llm_response(prompt)"
   ]
  },
  {
   "cell_type": "markdown",
   "id": "c87c1079",
   "metadata": {},
   "source": [
    "And print the recipe that considers Tommy's restrictions as well as the available ingredients at your house."
   ]
  },
  {
   "cell_type": "code",
   "execution_count": 11,
   "id": "d211dac7",
   "metadata": {},
   "outputs": [
    {
     "name": "stdout",
     "output_type": "stream",
     "text": [
      "**Mediterranean Tofu and Olive Stir-Fry**\n",
      "\n",
      "This delicious stir-fry combines marinated tofu with a colorful mix of bell peppers and olives, seasoned with cumin, turmeric, and oregano for a warm, savory flavor. Served over a bed of fluffy quinoa, this intermediate-level dish is both satisfying and packed with Mediterranean flair, hitting the perfect balance of spice without overwhelming your palate. \n",
      "\n",
      "**Ingredients:**\n",
      "- 1 block firm tofu, pressed and cubed\n",
      "- 1 cup mixed olives, pitted and sliced\n",
      "- 2 bell peppers (any color), sliced\n",
      "- 1 cup cooked quinoa\n",
      "- 2 tbsp olive oil\n",
      "- 1 tsp cumin\n",
      "- 1 tsp turmeric\n",
      "- 1 tsp oregano\n",
      "- Salt and pepper to taste\n",
      "- Fresh parsley for garnish (optional)\n",
      "\n",
      "**Instructions:**\n",
      "1. In a bowl, toss the cubed tofu with olive oil, cumin, turmeric, oregano, salt, and pepper. Marinate for at least 20 minutes to allow the flavors to infuse. \n",
      "2. In a large skillet over medium heat, add the marinated tofu and cook until golden and crispy on all sides, about 8-10 minutes. \n",
      "3. Add the sliced bell peppers and olives to the skillet, cooking for an additional 5-7 minutes until the peppers are tender but still crisp.\n",
      "4. Serve the stir-fry over a bed of prepared quinoa and garnish with fresh parsley if desired. Enjoy your flavorful Mediterranean meal!\n"
     ]
    }
   ],
   "source": [
    "print(recipe)"
   ]
  },
  {
   "cell_type": "markdown",
   "id": "8dd1eebb",
   "metadata": {},
   "source": [
    "Try changing the prompt to give you step-by-step instructions and try adding a key-value pair to the dictionary that indicates favorite cuisine."
   ]
  },
  {
   "cell_type": "markdown",
   "id": "d21d016e-e278-47f9-a3da-b031eb6905e9",
   "metadata": {},
   "source": [
    "## Looking ahead"
   ]
  },
  {
   "cell_type": "markdown",
   "id": "71e7f4a4-efbe-4bbb-a6b4-60305a2e5427",
   "metadata": {},
   "source": [
    "Let's take another look at`food_preferences_tommy[\"dietary_restrictions\"]` "
   ]
  },
  {
   "cell_type": "code",
   "execution_count": 12,
   "id": "91bb95c7-1940-452d-a120-149bf8db61c7",
   "metadata": {},
   "outputs": [
    {
     "name": "stdout",
     "output_type": "stream",
     "text": [
      "vegetarian\n"
     ]
    }
   ],
   "source": [
    "print(food_preferences_tommy[\"dietary_restrictions\"])"
   ]
  },
  {
   "cell_type": "markdown",
   "id": "b5f5fe5e-feae-4a8a-9e11-9cfb99958df2",
   "metadata": {},
   "source": [
    "Here is a different way you could tell Python that Tommy is vegetarian:"
   ]
  },
  {
   "cell_type": "code",
   "execution_count": 13,
   "id": "c447a119-a75b-4f83-87e1-81a6f4e34c13",
   "metadata": {},
   "outputs": [],
   "source": [
    "food_preferences_tommy[\"is_vegetarian\"] = True"
   ]
  },
  {
   "cell_type": "code",
   "execution_count": 14,
   "id": "bfea6233-99af-43b8-b26f-6ba0696f34c6",
   "metadata": {},
   "outputs": [
    {
     "name": "stdout",
     "output_type": "stream",
     "text": [
      "{'dietary_restrictions': 'vegetarian', 'favorite_ingredients': ['tofu', 'olives'], 'experience_level': 'intermediate', 'maximum_spice_level': 6, 'is_vegetarian': True}\n"
     ]
    }
   ],
   "source": [
    "print(food_preferences_tommy)"
   ]
  },
  {
   "cell_type": "markdown",
   "id": "3e43d1db-4ce2-4444-9c47-d0ae02370976",
   "metadata": {},
   "source": [
    "Go to next video to see what `True` and `False` are and how they work in Python"
   ]
  },
  {
   "cell_type": "markdown",
   "id": "cc7e65ef-1983-43d0-93b5-ce29a2c9f387",
   "metadata": {},
   "source": [
    "## Extra practice"
   ]
  },
  {
   "cell_type": "markdown",
   "id": "7389bce5-8c0d-41cf-b347-01c741078ef0",
   "metadata": {},
   "source": [
    "Please go through the exercises in the cells below if you want some extra practice for the topics you covered in this lesson."
   ]
  },
  {
   "cell_type": "code",
   "execution_count": 15,
   "id": "83969e6c-e89b-4061-8a9b-69764225dccd",
   "metadata": {},
   "outputs": [
    {
     "name": "stdout",
     "output_type": "stream",
     "text": [
      "{'dietary_restrictions': [], 'favorite_ingredients': [], 'experience_level': '', 'maximum_spice_level': 0}\n"
     ]
    }
   ],
   "source": [
    "# Update the following dictionary \n",
    "# with your own preferences \n",
    "\n",
    "### EDIT THE FOLLOWING CODE ###\n",
    "my_food_preferences = {\n",
    "        \"dietary_restrictions\": [], #List with dietary restrictions\n",
    "        \"favorite_ingredients\": [], #List with top three favorite ingredients\n",
    "        \"experience_level\": \"\", #Experience level\n",
    "        \"maximum_spice_level\": 0 #Spice level in a scale from 1 to 10\n",
    "}\n",
    "### --------------- ###\n",
    "\n",
    "print(my_food_preferences)"
   ]
  },
  {
   "cell_type": "code",
   "execution_count": 16,
   "id": "e22eb004-6a9c-4274-9ae3-c9ee106689fb",
   "metadata": {},
   "outputs": [
    {
     "name": "stdout",
     "output_type": "stream",
     "text": [
      "Try making a Mediterranean-style Tofu and Olive Stir-Fry. Pressed tofu is marinated in a tangy olive oil and lemon dressing, then sautéed with a colorful mix of bell peppers, olives, and herbs for a deliciously satisfying vegetarian dish that balances savory and zesty flavors, with just a hint of spice. \n",
      "\n",
      "### Mediterranean Tofu and Olive Stir-Fry\n",
      "\n",
      "#### Ingredients:\n",
      "- 1 block of firm tofu (14 oz), pressed and cubed\n",
      "- 1 cup mixed olives (green and black), pitted and sliced\n",
      "- 2 bell peppers (any color), sliced\n",
      "- 1 small red onion, sliced\n",
      "- 2 cloves garlic, minced\n",
      "- 2 tablespoons olive oil\n",
      "- 2 tablespoons lemon juice\n",
      "- 1 teaspoon dried oregano\n",
      "- 1 teaspoon paprika (adjust for spice level)\n",
      "- Salt and pepper to taste\n",
      "- Fresh parsley for garnish\n",
      "\n",
      "#### Instructions:\n",
      "1. **Marinate the Tofu:** In a bowl, combine olive oil, lemon juice, oregano, paprika, salt, and pepper. Add the cubed tofu and let it marinate for at least 30 minutes while you prep the other ingredients.\n",
      "\n",
      "2. **Sauté:** In a large skillet or wok, heat a tablespoon of olive oil over medium-high heat. Add the red onion and garlic; sauté until fragrant, about 2 minutes. Then, add the sliced bell peppers and cook until they soften, about 5 more minutes.\n",
      "\n",
      "3. **Combine:** Add the marinated tofu and olives to the skillet. Stir-fry everything together for an additional 5-7 minutes, allowing the tofu to get slightly golden and heated through. Adjust seasoning if needed.\n",
      "\n",
      "4. **Serve:** Remove from heat, garnish with fresh parsley, and serve warm over rice, quinoa, or enjoy it on its own! \n",
      "\n",
      "Enjoy your Mediterranean-inspired dish!\n"
     ]
    },
    {
     "data": {
      "text/plain": [
       "'Try making a Mediterranean-style Tofu and Olive Stir-Fry. Pressed tofu is marinated in a tangy olive oil and lemon dressing, then sautéed with a colorful mix of bell peppers, olives, and herbs for a deliciously satisfying vegetarian dish that balances savory and zesty flavors, with just a hint of spice. \\n\\n### Mediterranean Tofu and Olive Stir-Fry\\n\\n#### Ingredients:\\n- 1 block of firm tofu (14 oz), pressed and cubed\\n- 1 cup mixed olives (green and black), pitted and sliced\\n- 2 bell peppers (any color), sliced\\n- 1 small red onion, sliced\\n- 2 cloves garlic, minced\\n- 2 tablespoons olive oil\\n- 2 tablespoons lemon juice\\n- 1 teaspoon dried oregano\\n- 1 teaspoon paprika (adjust for spice level)\\n- Salt and pepper to taste\\n- Fresh parsley for garnish\\n\\n#### Instructions:\\n1. **Marinate the Tofu:** In a bowl, combine olive oil, lemon juice, oregano, paprika, salt, and pepper. Add the cubed tofu and let it marinate for at least 30 minutes while you prep the other ingredients.\\n\\n2. **Sauté:** In a large skillet or wok, heat a tablespoon of olive oil over medium-high heat. Add the red onion and garlic; sauté until fragrant, about 2 minutes. Then, add the sliced bell peppers and cook until they soften, about 5 more minutes.\\n\\n3. **Combine:** Add the marinated tofu and olives to the skillet. Stir-fry everything together for an additional 5-7 minutes, allowing the tofu to get slightly golden and heated through. Adjust seasoning if needed.\\n\\n4. **Serve:** Remove from heat, garnish with fresh parsley, and serve warm over rice, quinoa, or enjoy it on its own! \\n\\nEnjoy your Mediterranean-inspired dish!'"
      ]
     },
     "execution_count": 16,
     "metadata": {},
     "output_type": "execute_result"
    }
   ],
   "source": [
    "# Modify the following prompt, \n",
    "# without adding more than two sentences,\n",
    "# so that the provided recipe includes detailed instructions.\n",
    "\n",
    "### EDIT THE FOLLOWING CODE ###\n",
    "#Hint: look at the last sentence in this prompt\n",
    "prompt = f\"\"\"Please suggest a recipe that tries to include \n",
    "the following ingredients: \n",
    "{food_preferences_tommy[\"favorite_ingredients\"]}.\n",
    "The recipe should adhere to the following dietary restrictions:\n",
    "{food_preferences_tommy[\"dietary_restrictions\"]}.\n",
    "The difficulty of the recipe should be: \n",
    "{food_preferences_tommy[\"experience_level\"]}\n",
    "The maximum spice level on a scale of 10 should be: \n",
    "{food_preferences_tommy[\"maximum_spice_level\"]} \n",
    "Provide a two sentence description.\n",
    "\"\"\"\n",
    "### --------------- ###\n",
    "\n",
    "print_llm_response(prompt)"
   ]
  }
 ],
 "metadata": {
  "kernelspec": {
   "display_name": ".venv",
   "language": "python",
   "name": "python3"
  },
  "language_info": {
   "codemirror_mode": {
    "name": "ipython",
    "version": 3
   },
   "file_extension": ".py",
   "mimetype": "text/x-python",
   "name": "python",
   "nbconvert_exporter": "python",
   "pygments_lexer": "ipython3",
   "version": "3.13.2"
  }
 },
 "nbformat": 4,
 "nbformat_minor": 5
}

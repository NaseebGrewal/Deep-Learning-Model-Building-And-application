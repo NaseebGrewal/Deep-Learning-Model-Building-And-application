{
 "cells": [
  {
   "cell_type": "markdown",
   "id": "f6bf49f7-21f0-47bc-9a3e-7fd325a0b9bf",
   "metadata": {},
   "source": [
    "# Lesson 7 - Next course preview: working with files"
   ]
  },
  {
   "cell_type": "markdown",
   "id": "3b995ca7-0cb5-493f-bd27-72af8b13e7bb",
   "metadata": {},
   "source": [
    "In the next course, you will work with files in Python, exploring some fun applications. This lesson is a quick teaser of the topics you will cover next."
   ]
  },
  {
   "cell_type": "code",
   "execution_count": 1,
   "id": "96cd66e4-95b9-4ec3-ac05-e792a8675759",
   "metadata": {},
   "outputs": [],
   "source": [
    "from helper_functions import *"
   ]
  },
  {
   "cell_type": "markdown",
   "id": "2bcd475f-2f4a-48e4-a0c1-610e622bb1c2",
   "metadata": {},
   "source": [
    "In the next cell, you load text from a file that contains a journal entry with descriptions of restaurants and their specialties."
   ]
  },
  {
   "cell_type": "code",
   "execution_count": 2,
   "id": "fec224a6-51f8-4dcf-819f-ccceeef75d48",
   "metadata": {},
   "outputs": [
    {
     "name": "stdout",
     "output_type": "stream",
     "text": [
      "Cape Town Journal - [Date - Let's say: 2024-10-26]\n",
      "\n",
      "Today, Cape Town truly showed its magic. I started the morning with a hike up Lion's Head. The view... breathtaking doesn't even begin to cover it. The city sprawled out beneath me, Table Mountain standing proud, and the vast Atlantic stretching to the horizon. The sunrise painted everything in hues of gold and pink. I felt so small, yet so connected to this incredible place.\n",
      "\n",
      "After descending, I headed to the V&A Waterfront. The energy there is infectious. The mix of tourists, locals, street performers, and the constant buzz of the harbour is a feast for the senses. I had some incredible fish and chips at a little cafe overlooking the boats. The seagulls were surprisingly polite, just hovering and hoping for scraps.\n",
      "\n",
      "In the afternoon, I decided to explore the Company's Garden. It was a welcome respite from the city's hustle and bustle. The ancient trees, the squirrels darting about, and the peaceful atmosphere were exactly what I needed. I spent a good hour just sitting on a bench, sketching the Parliament buildings.\n",
      "\n",
      "The day ended with a sunset drive along Chapman's Peak. Words fail to describe the sheer beauty of that coastal road. The cliffs, the ocean, the colours of the setting sun... it was like a painting come to life. I stopped at a viewpoint and just watched as the sky turned fiery orange and the lights of the city began to twinkle.\n",
      "\n",
      "I'm starting to understand why people fall in love with Cape Town. It's a city of contrasts – the raw beauty of nature juxtaposed with the vibrant energy of urban life. Every corner seems to hold a new adventure. I'm excited to see what tomorrow brings.\n"
     ]
    }
   ],
   "source": [
    "journal = read_journal(\"journal_entries/cape_town.txt\") \n",
    "print(journal)"
   ]
  },
  {
   "cell_type": "markdown",
   "id": "0c817471-c24e-4e0b-a274-b09271e06004",
   "metadata": {},
   "source": [
    "As you can see, there is a lot of text, and finding the important information can take some time. You can use LLMs to highlight the important information for you. For instance, the restaurants and their specialties."
   ]
  },
  {
   "cell_type": "code",
   "execution_count": 4,
   "id": "12fad143-833a-44db-a5cc-1f7791e8705e",
   "metadata": {},
   "outputs": [],
   "source": [
    "prompt = f\"\"\"\n",
    "Given the following journal entry from a food critic, identify the restaurants and their specialties.\n",
    "For each restaurant, highlight its name and specialties in bold and use different colors for each.\n",
    "Provide the output as HTML suitable for display in a Jupyter notebook.\n",
    "\n",
    "Journal entry:\n",
    "{journal}\n",
    "\"\"\"\n",
    "html_response = get_llm_response(prompt)"
   ]
  },
  {
   "cell_type": "code",
   "execution_count": 5,
   "id": "c05d281d",
   "metadata": {},
   "outputs": [
    {
     "data": {
      "text/plain": [
       "'Here is the HTML output suitable for display in a Jupyter notebook with highlighted restaurant names and their specialties:\\n\\n```html\\n<!DOCTYPE html>\\n<html>\\n<head>\\n    <style>\\n        .restaurant1 { color: blue; font-weight: bold; }\\n        .restaurant2 { color: green; font-weight: bold; }\\n    </style>\\n</head>\\n<body>\\n    <h2>Cape Town Journal - 2024-10-26</h2>\\n    <p>Today, Cape Town truly showed its magic. I started the morning with a hike up Lion\\'s Head. The view... breathtaking doesn\\'t even begin to cover it. The city sprawled out beneath me, Table Mountain standing proud, and the vast Atlantic stretching to the horizon. The sunrise painted everything in hues of gold and pink. I felt so small, yet so connected to this incredible place.</p>\\n\\n    <p>After descending, I headed to the V&A Waterfront. The energy there is infectious. The mix of tourists, locals, street performers, and the constant buzz of the harbour is a feast for the senses. I had some incredible <span class=\"restaurant1\">**fish and chips**</span> at a little cafe overlooking the boats. The seagulls were surprisingly polite, just hovering and hoping for scraps.</p>\\n\\n    <p>In the afternoon, I decided to explore the Company\\'s Garden. It was a welcome respite from the city\\'s hustle and bustle. The ancient trees, the squirrels darting about, and the peaceful atmosphere were exactly what I needed. I spent a good hour just sitting on a bench, sketching the Parliament buildings.</p>\\n\\n    <p>The day ended with a sunset drive along Chapman\\'s Peak. Words fail to describe the sheer beauty of that coastal road. The cliffs, the ocean, the colours of the setting sun... it was like a painting come to life. I stopped at a viewpoint and just watched as the sky turned fiery orange and the lights of the city began to twinkle.</p>\\n\\n    <p>I\\'m starting to understand why people fall in love with Cape Town. It\\'s a city of contrasts – the raw beauty of nature juxtaposed with the vibrant energy of urban life. Every corner seems to hold a new adventure. I\\'m excited to see what tomorrow brings.</p>\\n</body>\\n</html>\\n```\\n\\nIn this HTML, I\\'ve designated the **fish and chips** specialty with a blue color. If other restaurants or specialties were mentioned, you could create additional classes (e.g., `.restaurant2` for another restaurant) and style them differently as needed.'"
      ]
     },
     "execution_count": 5,
     "metadata": {},
     "output_type": "execute_result"
    }
   ],
   "source": [
    "html_response"
   ]
  },
  {
   "cell_type": "code",
   "execution_count": 6,
   "id": "8e7ffc88",
   "metadata": {},
   "outputs": [
    {
     "data": {
      "text/html": [
       "Here is the HTML output suitable for display in a Jupyter notebook with highlighted restaurant names and their specialties:\n",
       "\n",
       "```html\n",
       "<!DOCTYPE html>\n",
       "<html>\n",
       "<head>\n",
       "    <style>\n",
       "        .restaurant1 { color: blue; font-weight: bold; }\n",
       "        .restaurant2 { color: green; font-weight: bold; }\n",
       "    </style>\n",
       "</head>\n",
       "<body>\n",
       "    <h2>Cape Town Journal - 2024-10-26</h2>\n",
       "    <p>Today, Cape Town truly showed its magic. I started the morning with a hike up Lion's Head. The view... breathtaking doesn't even begin to cover it. The city sprawled out beneath me, Table Mountain standing proud, and the vast Atlantic stretching to the horizon. The sunrise painted everything in hues of gold and pink. I felt so small, yet so connected to this incredible place.</p>\n",
       "\n",
       "    <p>After descending, I headed to the V&A Waterfront. The energy there is infectious. The mix of tourists, locals, street performers, and the constant buzz of the harbour is a feast for the senses. I had some incredible <span class=\"restaurant1\">**fish and chips**</span> at a little cafe overlooking the boats. The seagulls were surprisingly polite, just hovering and hoping for scraps.</p>\n",
       "\n",
       "    <p>In the afternoon, I decided to explore the Company's Garden. It was a welcome respite from the city's hustle and bustle. The ancient trees, the squirrels darting about, and the peaceful atmosphere were exactly what I needed. I spent a good hour just sitting on a bench, sketching the Parliament buildings.</p>\n",
       "\n",
       "    <p>The day ended with a sunset drive along Chapman's Peak. Words fail to describe the sheer beauty of that coastal road. The cliffs, the ocean, the colours of the setting sun... it was like a painting come to life. I stopped at a viewpoint and just watched as the sky turned fiery orange and the lights of the city began to twinkle.</p>\n",
       "\n",
       "    <p>I'm starting to understand why people fall in love with Cape Town. It's a city of contrasts – the raw beauty of nature juxtaposed with the vibrant energy of urban life. Every corner seems to hold a new adventure. I'm excited to see what tomorrow brings.</p>\n",
       "</body>\n",
       "</html>\n",
       "```\n",
       "\n",
       "In this HTML, I've designated the **fish and chips** specialty with a blue color. If other restaurants or specialties were mentioned, you could create additional classes (e.g., `.restaurant2` for another restaurant) and style them differently as needed."
      ],
      "text/plain": [
       "<IPython.core.display.HTML object>"
      ]
     },
     "metadata": {},
     "output_type": "display_data"
    }
   ],
   "source": [
    "from IPython.display import display, HTML\n",
    "display(HTML(html_response))"
   ]
  },
  {
   "cell_type": "code",
   "execution_count": null,
   "id": "0220c262",
   "metadata": {},
   "outputs": [],
   "source": [
    "display_html(html_response)"
   ]
  },
  {
   "cell_type": "markdown",
   "id": "580a69ac-4b3c-49e2-a397-4ff033370fe5",
   "metadata": {},
   "source": [
    "You have achieved a fantastic feat! 🎉🎉🎉 You completed this course and are ready to tackle new programming challenges. You have already seen how to work with lists, dictionaries, and booleans, and are familiar with how to use all of them with LLMs. I hope to see you in the next course so that you continue to explore cool examples like the one in this lesson! 🚀👏"
   ]
  }
 ],
 "metadata": {
  "kernelspec": {
   "display_name": ".venv",
   "language": "python",
   "name": "python3"
  },
  "language_info": {
   "codemirror_mode": {
    "name": "ipython",
    "version": 3
   },
   "file_extension": ".py",
   "mimetype": "text/x-python",
   "name": "python",
   "nbconvert_exporter": "python",
   "pygments_lexer": "ipython3",
   "version": "3.13.2"
  }
 },
 "nbformat": 4,
 "nbformat_minor": 5
}
